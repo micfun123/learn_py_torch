{
 "cells": [
  {
   "cell_type": "code",
   "execution_count": 1,
   "metadata": {},
   "outputs": [],
   "source": [
    "import torch\n",
    "import torch.nn as nn\n",
    "import torch.optim as optim\n",
    "import torchvision\n",
    "import torchvision.transforms as transforms\n",
    "from torch.utils.data import DataLoader , Dataset\n",
    "import numpy as np\n",
    "import matplotlib.pyplot as plt\n",
    "import pandas as pd\n",
    "from PIL import Image\n",
    "import os\n",
    "import time"
   ]
  },
  {
   "cell_type": "code",
   "execution_count": 2,
   "metadata": {},
   "outputs": [
    {
     "name": "stdout",
     "output_type": "stream",
     "text": [
      "cuda\n"
     ]
    }
   ],
   "source": [
    "\n",
    "device = torch.device('cuda' if torch.cuda.is_available() else 'cpu')\n",
    "print(device)\n"
   ]
  },
  {
   "cell_type": "code",
   "execution_count": 3,
   "metadata": {},
   "outputs": [],
   "source": [
    "\n",
    "class CardsDataSet(Dataset):\n",
    "    \n",
    "    def __init__(self, csv_file, transform=None, is_train=True):\n",
    "        self.data = pd.read_csv(csv_file)\n",
    "        self.transform = transform\n",
    "        self.is_train = is_train\n",
    "        print(self.data.columns)\n",
    "\n",
    "\n",
    "    def __len__(self):\n",
    "        return len(self.data)\n",
    "    \n",
    "    def __getitem__(self, idx):\n",
    "        if torch.is_tensor(idx):\n",
    "            idx = idx.tolist()\n",
    "\n",
    "        img_path = self.data.iloc[idx]['filepaths']\n",
    "        image = Image.open(img_path).convert('RGB')\n",
    "        image = image.resize((224, 224))\n",
    "        image = np.array(image)\n",
    "        image = image.astype(np.uint8)\n",
    "        \n",
    "        \n",
    "        \n",
    "        # Load label if in training mode\n",
    "        if self.is_train:\n",
    "            label = torch.tensor(int(self.data.iloc[idx]['class index']), dtype=torch.long)\n",
    "            sample = {'image': image, 'label': label}\n",
    "        else:\n",
    "            sample = {'image': image}\n",
    "\n",
    "\n",
    "        if self.transform:\n",
    "            sample['image'] = self.transform(sample['image'])\n",
    "\n",
    "        return sample\n"
   ]
  },
  {
   "cell_type": "code",
   "execution_count": 4,
   "metadata": {},
   "outputs": [],
   "source": [
    "transform = transforms.Compose([\n",
    "    transforms.ToTensor(),\n",
    "    transforms.RandomRotation(5),\n",
    "    transforms.RandomHorizontalFlip(),\n",
    "])\n"
   ]
  },
  {
   "cell_type": "code",
   "execution_count": 5,
   "metadata": {},
   "outputs": [
    {
     "name": "stdout",
     "output_type": "stream",
     "text": [
      "Index(['class index', 'filepaths', 'labels', 'card type', 'data set'], dtype='object')\n",
      "Train Size: 8158\n"
     ]
    }
   ],
   "source": [
    "train_dataset = CardsDataSet('cards.csv', transform=transform,is_train=True)\n",
    "print(f\"Train Size: {len(train_dataset)}\")"
   ]
  },
  {
   "cell_type": "code",
   "execution_count": 6,
   "metadata": {},
   "outputs": [
    {
     "name": "stdout",
     "output_type": "stream",
     "text": [
      "[ 0  1  2  3  4  5  6  7  8  9 10 11 12 13 14 15 16 17 18 19 20 21 22 23\n",
      " 24 25 26 27 28 29 30 31 32 33 34 35 36 37 38 39 40 41 42 43 44 45 46 47\n",
      " 48 49 50 51 52]\n",
      "I AM HERE\n"
     ]
    }
   ],
   "source": [
    "train_loader = DataLoader(train_dataset,batch_size=15, shuffle=True)\n",
    "print(f\"{train_dataset.data['class index'].unique()}\")\n",
    "print(\"I AM HERE\")"
   ]
  },
  {
   "cell_type": "code",
   "execution_count": null,
   "metadata": {},
   "outputs": [],
   "source": [
    "class CardRecognitionCNN(nn.Module):\n",
    "    def __init__(self):\n",
    "        super(CardRecognitionCNN, self).__init__()\n",
    "        self.conv1 = nn.Conv2d(3, 6, 5)\n",
    "        self.pool = nn.MaxPool2d(2, 2)\n",
    "        self.conv2 = nn.Conv2d(6, 16, 5)\n",
    "        self.fc1 = nn.Linear(16 * 53 * 53, 120)\n",
    "        self.fc2 = nn.Linear(120, 84)\n",
    "        self.fc3 = nn.Linear(84, 53)\n",
    "\n",
    "    def forward(self, x):\n",
    "        x = self.pool(torch.relu(self.conv1(x)))\n",
    "        x = self.pool(torch.relu(self.conv2(x)))\n",
    "        x = x.view(-1, 16 * 53 * 53)\n",
    "        x = torch.relu(self.fc1(x))\n",
    "        x = torch.relu(self.fc2(x))\n",
    "        x = self.fc3(x)\n",
    "        return x"
   ]
  },
  {
   "cell_type": "code",
   "execution_count": 8,
   "metadata": {},
   "outputs": [],
   "source": [
    "model = CardRecognitionCNN().to(device)\n",
    "criterion = nn.CrossEntropyLoss() # This criterion combines nn.LogSoftmax() and nn.NLLLoss() in one single class. \n",
    "optimizer = optim.SGD(model.parameters(), lr=0.001, momentum=0.9)"
   ]
  },
  {
   "cell_type": "code",
   "execution_count": null,
   "metadata": {},
   "outputs": [
    {
     "name": "stdout",
     "output_type": "stream",
     "text": [
      "Training Started on cuda\n",
      "Epoch: 1, Batch: 100, Loss: 3.9755, Progress: 0.50% \n",
      "Epoch: 1, Batch: 200, Loss: 3.9686, Progress: 0.50% \n",
      "Epoch: 1, Batch: 300, Loss: 3.9674, Progress: 0.50% \n",
      "Epoch: 1, Batch: 400, Loss: 3.9686, Progress: 0.50% \n",
      "Epoch: 1, Batch: 500, Loss: 3.9673, Progress: 0.50% \n",
      "Epoch: 2, Batch: 100, Loss: 3.9389, Progress: 1.00% \n",
      "Epoch: 2, Batch: 200, Loss: 3.8779, Progress: 1.00% \n",
      "Epoch: 2, Batch: 300, Loss: 3.7927, Progress: 1.00% \n",
      "Epoch: 2, Batch: 400, Loss: 3.6959, Progress: 1.00% \n",
      "Epoch: 2, Batch: 500, Loss: 3.5472, Progress: 1.00% \n",
      "Epoch: 3, Batch: 100, Loss: 3.4278, Progress: 1.50% \n",
      "Epoch: 3, Batch: 200, Loss: 3.3109, Progress: 1.50% \n",
      "Epoch: 3, Batch: 300, Loss: 3.2696, Progress: 1.50% \n",
      "Epoch: 3, Batch: 400, Loss: 3.2009, Progress: 1.50% \n",
      "Epoch: 3, Batch: 500, Loss: 3.1567, Progress: 1.50% \n",
      "Epoch: 4, Batch: 100, Loss: 3.0518, Progress: 2.00% \n",
      "Epoch: 4, Batch: 200, Loss: 2.9450, Progress: 2.00% \n",
      "Epoch: 4, Batch: 300, Loss: 2.9030, Progress: 2.00% \n",
      "Epoch: 4, Batch: 400, Loss: 2.9074, Progress: 2.00% \n",
      "Epoch: 4, Batch: 500, Loss: 2.9160, Progress: 2.00% \n",
      "Epoch: 5, Batch: 100, Loss: 2.7929, Progress: 2.50% \n",
      "Epoch: 5, Batch: 200, Loss: 2.7427, Progress: 2.50% \n",
      "Epoch: 5, Batch: 300, Loss: 2.7686, Progress: 2.50% \n",
      "Epoch: 5, Batch: 400, Loss: 2.7229, Progress: 2.50% \n",
      "Epoch: 5, Batch: 500, Loss: 2.8045, Progress: 2.50% \n",
      "Epoch: 6, Batch: 100, Loss: 2.6265, Progress: 3.00% \n",
      "Epoch: 6, Batch: 200, Loss: 2.6228, Progress: 3.00% \n",
      "Epoch: 6, Batch: 300, Loss: 2.6313, Progress: 3.00% \n",
      "Epoch: 6, Batch: 400, Loss: 2.5432, Progress: 3.00% \n",
      "Epoch: 6, Batch: 500, Loss: 2.5731, Progress: 3.00% \n",
      "Epoch: 7, Batch: 100, Loss: 2.5424, Progress: 3.50% \n",
      "Epoch: 7, Batch: 200, Loss: 2.4536, Progress: 3.50% \n",
      "Epoch: 7, Batch: 300, Loss: 2.4255, Progress: 3.50% \n",
      "Epoch: 7, Batch: 400, Loss: 2.3799, Progress: 3.50% \n",
      "Epoch: 7, Batch: 500, Loss: 2.3904, Progress: 3.50% \n",
      "Epoch: 8, Batch: 100, Loss: 2.2250, Progress: 4.00% \n",
      "Epoch: 8, Batch: 200, Loss: 2.2561, Progress: 4.00% \n",
      "Epoch: 8, Batch: 300, Loss: 2.2505, Progress: 4.00% \n",
      "Epoch: 8, Batch: 400, Loss: 2.1100, Progress: 4.00% \n",
      "Epoch: 8, Batch: 500, Loss: 2.2479, Progress: 4.00% \n",
      "Epoch: 9, Batch: 100, Loss: 1.9473, Progress: 4.50% \n",
      "Epoch: 9, Batch: 200, Loss: 2.0194, Progress: 4.50% \n",
      "Epoch: 9, Batch: 300, Loss: 1.9745, Progress: 4.50% \n",
      "Epoch: 9, Batch: 400, Loss: 1.9691, Progress: 4.50% \n",
      "Epoch: 9, Batch: 500, Loss: 1.9703, Progress: 4.50% \n",
      "Epoch: 10, Batch: 100, Loss: 1.7208, Progress: 5.00% \n",
      "Epoch: 10, Batch: 200, Loss: 1.7431, Progress: 5.00% \n",
      "Epoch: 10, Batch: 300, Loss: 1.7563, Progress: 5.00% \n",
      "Epoch: 10, Batch: 400, Loss: 1.8204, Progress: 5.00% \n",
      "Epoch: 10, Batch: 500, Loss: 1.7249, Progress: 5.00% \n",
      "Epoch: 11, Batch: 100, Loss: 1.6757, Progress: 5.50% \n",
      "Epoch: 11, Batch: 200, Loss: 1.5760, Progress: 5.50% \n",
      "Epoch: 11, Batch: 300, Loss: 1.6297, Progress: 5.50% \n",
      "Epoch: 11, Batch: 400, Loss: 1.6288, Progress: 5.50% \n",
      "Epoch: 11, Batch: 500, Loss: 1.6123, Progress: 5.50% \n",
      "Epoch: 12, Batch: 100, Loss: 1.4849, Progress: 6.00% \n",
      "Epoch: 12, Batch: 200, Loss: 1.4236, Progress: 6.00% \n",
      "Epoch: 12, Batch: 300, Loss: 1.4851, Progress: 6.00% \n",
      "Epoch: 12, Batch: 400, Loss: 1.5031, Progress: 6.00% \n",
      "Epoch: 12, Batch: 500, Loss: 1.4943, Progress: 6.00% \n",
      "Epoch: 13, Batch: 100, Loss: 1.2609, Progress: 6.50% \n",
      "Epoch: 13, Batch: 200, Loss: 1.3337, Progress: 6.50% \n",
      "Epoch: 13, Batch: 300, Loss: 1.3509, Progress: 6.50% \n",
      "Epoch: 13, Batch: 400, Loss: 1.3542, Progress: 6.50% \n",
      "Epoch: 13, Batch: 500, Loss: 1.3945, Progress: 6.50% \n",
      "Epoch: 14, Batch: 100, Loss: 1.2007, Progress: 7.00% \n",
      "Epoch: 14, Batch: 200, Loss: 1.1890, Progress: 7.00% \n",
      "Epoch: 14, Batch: 300, Loss: 1.2416, Progress: 7.00% \n",
      "Epoch: 14, Batch: 400, Loss: 1.2419, Progress: 7.00% \n",
      "Epoch: 14, Batch: 500, Loss: 1.2835, Progress: 7.00% \n",
      "Epoch: 15, Batch: 100, Loss: 0.9956, Progress: 7.50% \n",
      "Epoch: 15, Batch: 200, Loss: 1.1530, Progress: 7.50% \n",
      "Epoch: 15, Batch: 300, Loss: 1.1273, Progress: 7.50% \n",
      "Epoch: 15, Batch: 400, Loss: 1.0988, Progress: 7.50% \n",
      "Epoch: 15, Batch: 500, Loss: 1.2013, Progress: 7.50% \n",
      "Epoch: 16, Batch: 100, Loss: 0.9630, Progress: 8.00% \n",
      "Epoch: 16, Batch: 200, Loss: 1.0299, Progress: 8.00% \n",
      "Epoch: 16, Batch: 300, Loss: 1.0453, Progress: 8.00% \n",
      "Epoch: 16, Batch: 400, Loss: 1.0849, Progress: 8.00% \n",
      "Epoch: 16, Batch: 500, Loss: 1.0641, Progress: 8.00% \n",
      "Epoch: 17, Batch: 100, Loss: 0.8813, Progress: 8.50% \n",
      "Epoch: 17, Batch: 200, Loss: 0.8626, Progress: 8.50% \n",
      "Epoch: 17, Batch: 300, Loss: 0.9524, Progress: 8.50% \n",
      "Epoch: 17, Batch: 400, Loss: 0.9781, Progress: 8.50% \n",
      "Epoch: 17, Batch: 500, Loss: 0.9912, Progress: 8.50% \n",
      "Epoch: 18, Batch: 100, Loss: 0.7778, Progress: 9.00% \n",
      "Epoch: 18, Batch: 200, Loss: 0.8426, Progress: 9.00% \n",
      "Epoch: 18, Batch: 300, Loss: 0.8798, Progress: 9.00% \n",
      "Epoch: 18, Batch: 400, Loss: 0.9047, Progress: 9.00% \n",
      "Epoch: 18, Batch: 500, Loss: 0.9003, Progress: 9.00% \n",
      "Epoch: 19, Batch: 100, Loss: 0.7309, Progress: 9.50% \n",
      "Epoch: 19, Batch: 200, Loss: 0.8076, Progress: 9.50% \n",
      "Epoch: 19, Batch: 300, Loss: 0.7524, Progress: 9.50% \n",
      "Epoch: 19, Batch: 400, Loss: 0.7948, Progress: 9.50% \n",
      "Epoch: 19, Batch: 500, Loss: 0.8077, Progress: 9.50% \n",
      "Epoch: 20, Batch: 100, Loss: 0.7280, Progress: 10.00% \n",
      "Epoch: 20, Batch: 200, Loss: 0.6649, Progress: 10.00% \n",
      "Epoch: 20, Batch: 300, Loss: 0.7810, Progress: 10.00% \n",
      "Epoch: 20, Batch: 400, Loss: 0.7536, Progress: 10.00% \n",
      "Epoch: 20, Batch: 500, Loss: 0.7219, Progress: 10.00% \n",
      "Epoch: 21, Batch: 100, Loss: 0.6514, Progress: 10.50% \n",
      "Epoch: 21, Batch: 200, Loss: 0.7080, Progress: 10.50% \n",
      "Epoch: 21, Batch: 300, Loss: 0.5983, Progress: 10.50% \n",
      "Epoch: 21, Batch: 400, Loss: 0.7311, Progress: 10.50% \n",
      "Epoch: 21, Batch: 500, Loss: 0.6334, Progress: 10.50% \n",
      "Epoch: 22, Batch: 100, Loss: 0.5098, Progress: 11.00% \n",
      "Epoch: 22, Batch: 200, Loss: 0.5968, Progress: 11.00% \n",
      "Epoch: 22, Batch: 300, Loss: 0.6702, Progress: 11.00% \n",
      "Epoch: 22, Batch: 400, Loss: 0.6218, Progress: 11.00% \n",
      "Epoch: 22, Batch: 500, Loss: 0.6503, Progress: 11.00% \n",
      "Epoch: 23, Batch: 100, Loss: 0.5032, Progress: 11.50% \n",
      "Epoch: 23, Batch: 200, Loss: 0.5769, Progress: 11.50% \n",
      "Epoch: 23, Batch: 300, Loss: 0.5921, Progress: 11.50% \n",
      "Epoch: 23, Batch: 400, Loss: 0.6043, Progress: 11.50% \n",
      "Epoch: 23, Batch: 500, Loss: 0.5502, Progress: 11.50% \n",
      "Epoch: 24, Batch: 100, Loss: 0.4602, Progress: 12.00% \n",
      "Epoch: 24, Batch: 200, Loss: 0.5038, Progress: 12.00% \n",
      "Epoch: 24, Batch: 300, Loss: 0.5303, Progress: 12.00% \n",
      "Epoch: 24, Batch: 400, Loss: 0.5417, Progress: 12.00% \n",
      "Epoch: 24, Batch: 500, Loss: 0.4889, Progress: 12.00% \n",
      "Epoch: 25, Batch: 100, Loss: 0.4188, Progress: 12.50% \n",
      "Epoch: 25, Batch: 200, Loss: 0.4590, Progress: 12.50% \n",
      "Epoch: 25, Batch: 300, Loss: 0.5187, Progress: 12.50% \n",
      "Epoch: 25, Batch: 400, Loss: 0.4803, Progress: 12.50% \n",
      "Epoch: 25, Batch: 500, Loss: 0.4832, Progress: 12.50% \n",
      "Epoch: 26, Batch: 100, Loss: 0.3863, Progress: 13.00% \n",
      "Epoch: 26, Batch: 200, Loss: 0.4665, Progress: 13.00% \n",
      "Epoch: 26, Batch: 300, Loss: 0.4378, Progress: 13.00% \n",
      "Epoch: 26, Batch: 400, Loss: 0.4446, Progress: 13.00% \n",
      "Epoch: 26, Batch: 500, Loss: 0.5033, Progress: 13.00% \n",
      "Epoch: 27, Batch: 100, Loss: 0.3011, Progress: 13.50% \n"
     ]
    }
   ],
   "source": [
    "\n",
    "num_epochs = 200\n",
    "print(f\"Training Started on {device}\")\n",
    "for epoch in range(num_epochs):\n",
    "    running_loss = 0.0 \n",
    "    for i, data in enumerate(train_loader, 0):\n",
    "        inputs, labels = data['image'], data['label']\n",
    "        inputs, labels = inputs.to(device), labels.to(device)\n",
    "\n",
    "        \n",
    "        optimizer.zero_grad()\n",
    "        outputs = model(inputs.float())\n",
    "        loss = criterion(outputs, labels)\n",
    "        loss.backward()\n",
    "        optimizer.step()\n",
    "\n",
    "\n",
    "        running_loss += loss.item()\n",
    "        if i % 100 == 99:\n",
    "            print(f\"Epoch: {epoch + 1}, Batch: {i + 1}, \"\n",
    "                  f\"Loss: {running_loss / 100:.4f}, \"\n",
    "                  f\"Progress: {100 * (epoch + 1) / num_epochs:.2f}% \")\n",
    "            \n",
    "\n",
    "            running_loss = 0.0\n",
    "\n",
    "print(\"Finished Training\")"
   ]
  },
  {
   "cell_type": "code",
   "execution_count": null,
   "metadata": {},
   "outputs": [
    {
     "name": "stdout",
     "output_type": "stream",
     "text": [
      "Model Saved\n"
     ]
    },
    {
     "ename": "",
     "evalue": "",
     "output_type": "error",
     "traceback": [
      "\u001b[1;31mThe Kernel crashed while executing code in the current cell or a previous cell. \n",
      "\u001b[1;31mPlease review the code in the cell(s) to identify a possible cause of the failure. \n",
      "\u001b[1;31mClick <a href='https://aka.ms/vscodeJupyterKernelCrash'>here</a> for more info. \n",
      "\u001b[1;31mView Jupyter <a href='command:jupyter.viewOutput'>log</a> for further details."
     ]
    }
   ],
   "source": [
    "# Save the model\n",
    "torch.save(model.state_dict(), 'model.pth')\n",
    "print(\"Model Saved\")"
   ]
  }
 ],
 "metadata": {
  "kernelspec": {
   "display_name": "Python 3",
   "language": "python",
   "name": "python3"
  },
  "language_info": {
   "codemirror_mode": {
    "name": "ipython",
    "version": 3
   },
   "file_extension": ".py",
   "mimetype": "text/x-python",
   "name": "python",
   "nbconvert_exporter": "python",
   "pygments_lexer": "ipython3",
   "version": "3.10.0"
  }
 },
 "nbformat": 4,
 "nbformat_minor": 2
}
