{
 "cells": [
  {
   "cell_type": "code",
   "execution_count": 33,
   "metadata": {},
   "outputs": [],
   "source": [
    "import torch\n",
    "import numpy as np"
   ]
  },
  {
   "cell_type": "code",
   "execution_count": 34,
   "metadata": {},
   "outputs": [],
   "source": [
    "data = [[1, 2], [3, 4]]\n",
    "x_data = torch.tensor(data)"
   ]
  },
  {
   "cell_type": "code",
   "execution_count": 35,
   "metadata": {},
   "outputs": [],
   "source": [
    "np_array = np.array(data)\n",
    "x_np = torch.from_numpy(np_array)"
   ]
  },
  {
   "cell_type": "code",
   "execution_count": 36,
   "metadata": {},
   "outputs": [
    {
     "name": "stdout",
     "output_type": "stream",
     "text": [
      "Ones Tensor: \n",
      " tensor([[1, 1],\n",
      "        [1, 1]]) \n",
      "\n",
      "Random Tensor: \n",
      " tensor([[0.3215, 0.7532],\n",
      "        [0.0987, 0.1442]]) \n",
      "\n"
     ]
    }
   ],
   "source": [
    "x_ones = torch.ones_like(x_data) # retains the properties of x_data\n",
    "print(f\"Ones Tensor: \\n {x_ones} \\n\")\n",
    "\n",
    "x_rand = torch.rand_like(x_data, dtype=torch.float) # overrides the datatype of x_data\n",
    "print(f\"Random Tensor: \\n {x_rand} \\n\")"
   ]
  },
  {
   "cell_type": "code",
   "execution_count": 37,
   "metadata": {},
   "outputs": [
    {
     "name": "stdout",
     "output_type": "stream",
     "text": [
      "torch.Size([2, 2])\n",
      "tensor([[ True, False],\n",
      "        [False,  True]])\n",
      "tensor([[1, 2],\n",
      "        [3, 4]], dtype=torch.int16)\n",
      "tensor([[1., 2.],\n",
      "        [3., 4.]])\n"
     ]
    }
   ],
   "source": [
    "bool_tensor = torch.tensor([[True, False], [False, True]], dtype=torch.bool)\n",
    "print(bool_tensor.shape)\n",
    "print(bool_tensor)\n",
    "\n",
    "int16_tensor = torch.tensor([[1, 2], [3, 4]], dtype=torch.int16)\n",
    "print(int16_tensor)\n",
    "\n",
    "floats_tensor = torch.tensor([[1.0, 2.0], [3.0, 4.0]], dtype=torch.float32)\n",
    "print(floats_tensor)\n"
   ]
  },
  {
   "cell_type": "code",
   "execution_count": 38,
   "metadata": {},
   "outputs": [
    {
     "name": "stdout",
     "output_type": "stream",
     "text": [
      "tensor([[0.9573, 0.6429, 0.2772, 0.5094],\n",
      "        [0.8376, 0.8523, 0.4929, 0.9120],\n",
      "        [0.6421, 0.5715, 0.7294, 0.2735]])\n",
      "cpu\n",
      "torch.Size([3, 4])\n"
     ]
    }
   ],
   "source": [
    "x = torch.rand(3, 4)\n",
    "if torch.cuda.is_available():\n",
    "    x = x.to('cuda')\n",
    "    print(x)\n",
    "    print(x.device)\n",
    "    print(x.shape)\n",
    "print(x)\n",
    "print(x.device)\n",
    "print(x.shape)"
   ]
  },
  {
   "cell_type": "code",
   "execution_count": 39,
   "metadata": {},
   "outputs": [
    {
     "name": "stdout",
     "output_type": "stream",
     "text": [
      "tensor([[0.7669, 0.7333, 0.7084, 0.1232, 0.9773],\n",
      "        [0.6947, 0.1925, 0.0604, 0.9659, 0.3862],\n",
      "        [0.3787, 0.2498, 0.3037, 0.8753, 0.4996],\n",
      "        [0.7794, 0.5612, 0.1209, 0.4384, 0.0614],\n",
      "        [0.5567, 0.1226, 0.4806, 0.3429, 0.4801]])\n",
      "tensor([0.7669, 0.7333, 0.7084, 0.1232, 0.9773])\n",
      "tensor([0.7669, 0.6947, 0.3787, 0.7794, 0.5567])\n",
      "tensor([0.7669, 0.7333, 0.7084, 0.1232, 0.9773])\n",
      "tensor([[0.1925, 0.0604],\n",
      "        [0.2498, 0.3037]])\n"
     ]
    }
   ],
   "source": [
    "#slicing demo\n",
    "x = torch.rand(5, 5)\n",
    "print(x)\n",
    "print(x[0]) # first row\n",
    "print(x[:, 0]) # first column\n",
    "print(x[0, :]) # first row\n",
    "print(x[1:3, 1:3]) # middle 2x2\n"
   ]
  },
  {
   "cell_type": "code",
   "execution_count": 40,
   "metadata": {},
   "outputs": [
    {
     "name": "stdout",
     "output_type": "stream",
     "text": [
      "tensor([[0.4201, 0.5009],\n",
      "        [0.9856, 0.3168]])\n",
      "\n",
      "tensor([[0.4201, 0.5009],\n",
      "        [0.9856, 0.3168],\n",
      "        [0.4201, 0.5009],\n",
      "        [0.9856, 0.3168]])\n",
      "\n",
      "tensor([[0.4201, 0.5009, 0.4201, 0.5009],\n",
      "        [0.9856, 0.3168, 0.9856, 0.3168]])\n",
      "\n"
     ]
    }
   ],
   "source": [
    "x = torch.rand(2,2)\n",
    "print(x)\n",
    "print()\n",
    "x_cat_0 = torch.cat([x, x], dim=0) # concatenate along rows\n",
    "print(x_cat_0)\n",
    "print()\n",
    "x_cat_1 = torch.cat([x, x], dim=1) # concatenate along columns\n",
    "print(x_cat_1)\n",
    "print()"
   ]
  },
  {
   "cell_type": "code",
   "execution_count": 41,
   "metadata": {},
   "outputs": [
    {
     "name": "stdout",
     "output_type": "stream",
     "text": [
      "tensor([[1, 2],\n",
      "        [3, 4]])\n",
      "\n",
      "tensor([[1, 2],\n",
      "        [3, 4]])\n",
      "\n",
      "tensor([[ 1,  4],\n",
      "        [ 9, 16]])\n",
      "\n",
      "tensor([[ 7, 10],\n",
      "        [15, 22]])\n",
      "\n",
      "tensor([[ 1,  4],\n",
      "        [ 9, 16]])\n"
     ]
    }
   ],
   "source": [
    "#mulitplication\n",
    "\n",
    "x2 = torch.tensor([[1, 2], [3, 4]])\n",
    "print(x1)\n",
    "print()\n",
    "print(x2)\n",
    "print()\n",
    "print(x1 * x2) # element-wise multiplication\n",
    "print()\n",
    "print(torch.matmul(x1, x2)) # matrix multiplication\n",
    "print()\n",
    "print(torch.multiply(x1, x2)) # element-wise multiplication"
   ]
  },
  {
   "cell_type": "code",
   "execution_count": 49,
   "metadata": {},
   "outputs": [
    {
     "name": "stdout",
     "output_type": "stream",
     "text": [
      "tensor([[1, 2],\n",
      "        [3, 4]])\n",
      "\n",
      "tensor([[2, 4],\n",
      "        [6, 8]])\n",
      "\n",
      "tensor([[1, 2],\n",
      "        [3, 4]])\n"
     ]
    }
   ],
   "source": [
    "x1 = torch.tensor([[1, 2], [3, 4]])\n",
    "print(x1)\n",
    "print()\n",
    "x1.add_(x1) # in-place addition\n",
    "print(x1)\n",
    "print()\n",
    "x1 = torch.tensor([[1, 2], [3, 4]])\n",
    "x1.add(x1) # out-of-place addition\n",
    "print(x1)\n"
   ]
  },
  {
   "cell_type": "code",
   "execution_count": null,
   "metadata": {},
   "outputs": [],
   "source": []
  }
 ],
 "metadata": {
  "kernelspec": {
   "display_name": "Python 3",
   "language": "python",
   "name": "python3"
  },
  "language_info": {
   "codemirror_mode": {
    "name": "ipython",
    "version": 3
   },
   "file_extension": ".py",
   "mimetype": "text/x-python",
   "name": "python",
   "nbconvert_exporter": "python",
   "pygments_lexer": "ipython3",
   "version": "3.11.6"
  }
 },
 "nbformat": 4,
 "nbformat_minor": 2
}
