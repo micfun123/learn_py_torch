{
 "cells": [
  {
   "cell_type": "code",
   "execution_count": 1,
   "metadata": {},
   "outputs": [],
   "source": [
    "import torch\n",
    "import torch.nn as nn\n",
    "import torch.optim as optim\n",
    "import torchvision\n",
    "import torchvision.transforms as transforms\n",
    "from torch.utils.data import DataLoader , Dataset\n",
    "import numpy as np\n",
    "import matplotlib.pyplot as plt\n",
    "import pandas as pd"
   ]
  },
  {
   "cell_type": "code",
   "execution_count": 2,
   "metadata": {},
   "outputs": [
    {
     "name": "stdout",
     "output_type": "stream",
     "text": [
      "cuda\n"
     ]
    }
   ],
   "source": [
    "device = torch.device('cuda' if torch.cuda.is_available() else 'cpu')\n",
    "print(device)"
   ]
  },
  {
   "cell_type": "code",
   "execution_count": 3,
   "metadata": {},
   "outputs": [],
   "source": [
    "class CustomMNISTDataset(Dataset):\n",
    "    def __init__(self,csv_file,transform=None,is_test=False):\n",
    "        self.data_frame = pd.read_csv(csv_file)\n",
    "        self.transform = transform\n",
    "        self.is_test = is_test\n",
    "\n",
    "    \n",
    "    def __len__(self):\n",
    "        return len(self.data_frame)\n",
    "    \n",
    "    def __getitem__(self, index):\n",
    "        item = self.data_frame.iloc[index]\n",
    "\n",
    "        if self.is_test:\n",
    "            image = item.values.reshape(28,28).astype(np.uint8)\n",
    "            label = None\n",
    "        else:\n",
    "            image = item[1:].values.reshape(28,28).astype(np.uint8)\n",
    "            label = item.iloc[0]\n",
    "\n",
    "        image = transforms.ToPILImage()(image)\n",
    "\n",
    "        if self.transform is not None:\n",
    "            image = self.transform(image)\n",
    "\n",
    "        if self.is_test:\n",
    "            return image\n",
    "        else:\n",
    "            return image,label"
   ]
  },
  {
   "cell_type": "code",
   "execution_count": null,
   "metadata": {},
   "outputs": [],
   "source": [
    "transform = transforms.Compose(\n",
    "    [transforms.RandomRotation(15),\n",
    "     transforms.ToTensor(),\n",
    "     transforms.Normalize((0.5), (0.5),),\n",
    "     transforms.Grayscale(1)\n",
    "    ]\n",
    ")"
   ]
  },
  {
   "cell_type": "code",
   "execution_count": 5,
   "metadata": {},
   "outputs": [],
   "source": [
    "train_dataset = CustomMNISTDataset(csv_file='train.csv',transform=transform,is_test=False)\n",
    "test_dataset = CustomMNISTDataset(csv_file='test.csv',transform=transform,is_test=True)"
   ]
  },
  {
   "cell_type": "code",
   "execution_count": 6,
   "metadata": {},
   "outputs": [
    {
     "name": "stdout",
     "output_type": "stream",
     "text": [
      "Train Size: 42003 Test Size: 28000\n"
     ]
    }
   ],
   "source": [
    "print(f\"Train Size: {len(train_dataset)} Test Size: {len(test_dataset)}\")"
   ]
  },
  {
   "cell_type": "code",
   "execution_count": 7,
   "metadata": {},
   "outputs": [
    {
     "data": {
      "text/plain": [
       "(tensor([[[-1.0000, -1.0000, -1.0000, -1.0000, -1.0000, -1.0000, -1.0000,\n",
       "           -1.0000, -1.0000, -1.0000, -1.0000, -1.0000, -1.0000, -1.0000,\n",
       "           -1.0000, -1.0000, -1.0000, -1.0000, -1.0000, -1.0000, -1.0000,\n",
       "           -1.0000, -1.0000, -1.0000, -1.0000, -1.0000, -1.0000, -1.0000],\n",
       "          [-1.0000, -1.0000, -1.0000, -1.0000, -1.0000, -1.0000, -1.0000,\n",
       "           -1.0000, -1.0000, -1.0000, -1.0000, -1.0000, -1.0000, -1.0000,\n",
       "           -1.0000, -1.0000, -1.0000, -1.0000, -1.0000, -1.0000, -1.0000,\n",
       "           -1.0000, -1.0000, -1.0000, -1.0000, -1.0000, -1.0000, -1.0000],\n",
       "          [-1.0000, -1.0000, -1.0000, -1.0000, -1.0000, -1.0000, -1.0000,\n",
       "           -1.0000, -1.0000, -1.0000, -1.0000, -1.0000, -1.0000, -1.0000,\n",
       "           -1.0000, -1.0000, -1.0000, -1.0000, -1.0000, -1.0000, -1.0000,\n",
       "           -1.0000, -1.0000, -1.0000, -1.0000, -1.0000, -1.0000, -1.0000],\n",
       "          [-1.0000, -1.0000, -1.0000, -1.0000, -1.0000, -1.0000, -1.0000,\n",
       "           -1.0000, -1.0000, -1.0000, -1.0000, -1.0000, -1.0000, -1.0000,\n",
       "           -1.0000, -0.9922, -1.0000, -1.0000, -1.0000, -1.0000, -1.0000,\n",
       "           -1.0000, -1.0000, -1.0000, -1.0000, -1.0000, -1.0000, -1.0000],\n",
       "          [-1.0000, -1.0000, -1.0000, -1.0000, -1.0000, -1.0000, -1.0000,\n",
       "           -1.0000, -1.0000, -1.0000, -1.0000,  0.0745,  0.5059, -0.3255,\n",
       "           -0.4353,  0.1843, -0.7490, -1.0000, -1.0000, -1.0000, -1.0000,\n",
       "           -1.0000, -1.0000, -1.0000, -1.0000, -1.0000, -1.0000, -1.0000],\n",
       "          [-1.0000, -1.0000, -1.0000, -1.0000, -1.0000, -1.0000, -1.0000,\n",
       "           -1.0000, -0.8588, -0.7647,  0.0745,  0.9922,  0.9922,  0.7020,\n",
       "            0.9294,  0.9922,  0.8118, -0.5765, -0.8824, -1.0000, -1.0000,\n",
       "           -1.0000, -1.0000, -1.0000, -1.0000, -1.0000, -1.0000, -1.0000],\n",
       "          [-1.0000, -1.0000, -1.0000, -1.0000, -1.0000, -1.0000, -1.0000,\n",
       "           -0.3255,  0.9608,  0.9922,  0.9922,  0.9922,  0.9922,  0.9922,\n",
       "            0.9922,  0.9922,  0.9922,  0.9922, -0.1843, -0.3333, -1.0000,\n",
       "           -1.0000, -1.0000, -1.0000, -1.0000, -1.0000, -1.0000, -1.0000],\n",
       "          [-1.0000, -1.0000, -1.0000, -1.0000, -1.0000, -1.0000, -0.8980,\n",
       "            0.9922,  0.9922,  0.9922,  0.9922,  0.9922,  0.9922,  0.9922,\n",
       "            0.9922,  0.9922,  0.9922,  0.9922,  0.9922,  0.9922,  0.3412,\n",
       "           -1.0000, -1.0000, -1.0000, -1.0000, -1.0000, -1.0000, -1.0000],\n",
       "          [-1.0000, -1.0000, -1.0000, -1.0000, -1.0000, -0.8745,  0.4039,\n",
       "            0.9922,  0.9922,  0.9922,  0.9922,  0.9922, -0.1451, -0.3490,\n",
       "            0.5608, -0.7725,  0.5686,  0.9922,  0.9922,  0.9922,  0.6627,\n",
       "           -0.4039, -1.0000, -1.0000, -1.0000, -1.0000, -1.0000, -1.0000],\n",
       "          [-1.0000, -1.0000, -1.0000, -1.0000, -1.0000, -1.0000, -0.4353,\n",
       "            0.9922,  0.9922,  0.9922,  0.9922,  0.1529, -0.6471, -1.0000,\n",
       "           -0.9137, -0.7725,  0.0039,  0.9765,  0.9922,  0.9922,  0.9922,\n",
       "            0.2000, -1.0000, -1.0000, -1.0000, -1.0000, -1.0000, -1.0000],\n",
       "          [-1.0000, -1.0000, -1.0000, -1.0000, -1.0000, -0.5216,  0.4980,\n",
       "            0.9922,  0.9922,  0.5843,  0.1529, -1.0000, -1.0000, -1.0000,\n",
       "           -1.0000, -1.0000, -1.0000, -0.3490,  0.9922,  0.9922,  0.9922,\n",
       "            0.2000, -1.0000, -1.0000, -1.0000, -1.0000, -1.0000, -1.0000],\n",
       "          [-1.0000, -1.0000, -1.0000, -1.0000, -1.0000,  0.3490,  0.9922,\n",
       "            0.9922, -0.3020, -0.4745, -1.0000, -1.0000, -1.0000, -1.0000,\n",
       "           -1.0000, -1.0000, -1.0000, -1.0000, -0.8039,  0.8824,  0.9922,\n",
       "            0.9922,  0.7569, -0.9059, -1.0000, -1.0000, -1.0000, -1.0000],\n",
       "          [-1.0000, -1.0000, -1.0000, -1.0000, -0.9922,  0.3647,  0.9922,\n",
       "            0.9922, -0.7725, -0.7725, -1.0000, -1.0000, -1.0000, -1.0000,\n",
       "           -1.0000, -1.0000, -1.0000, -1.0000, -1.0000,  0.3020,  0.9922,\n",
       "            0.9922,  0.9922, -0.8667, -1.0000, -1.0000, -1.0000, -1.0000],\n",
       "          [-1.0000, -1.0000, -1.0000, -1.0000, -1.0000, -0.6314,  0.9922,\n",
       "            0.9922,  0.8824, -0.8118, -1.0000, -1.0000, -1.0000, -1.0000,\n",
       "           -1.0000, -1.0000, -1.0000, -1.0000, -1.0000, -0.4118,  0.9922,\n",
       "            0.9922,  0.9922, -0.8667, -1.0000, -1.0000, -1.0000, -1.0000],\n",
       "          [-1.0000, -1.0000, -1.0000, -1.0000, -1.0000, -0.3725,  0.9922,\n",
       "            0.9922,  0.4588, -0.9451, -1.0000, -1.0000, -1.0000, -1.0000,\n",
       "           -1.0000, -1.0000, -1.0000, -1.0000, -1.0000, -0.6235,  0.9922,\n",
       "            0.9922,  0.9922, -0.8667, -1.0000, -1.0000, -1.0000, -1.0000],\n",
       "          [-1.0000, -1.0000, -1.0000, -1.0000, -1.0000, -0.4980,  0.9922,\n",
       "            0.9922,  0.9922, -0.7725, -1.0000, -1.0000, -1.0000, -1.0000,\n",
       "           -1.0000, -1.0000, -1.0000, -1.0000, -1.0000, -1.0000,  0.6392,\n",
       "            0.9922,  0.9922,  0.1765, -0.9922, -1.0000, -1.0000, -1.0000],\n",
       "          [-1.0000, -1.0000, -1.0000, -1.0000, -0.8902,  0.8196,  0.9922,\n",
       "            0.9922,  0.9922, -0.7725, -1.0000, -1.0000, -1.0000, -1.0000,\n",
       "           -1.0000, -1.0000, -1.0000, -1.0000, -1.0000, -0.8745,  0.6392,\n",
       "            0.9922,  0.9216, -0.7569, -1.0000, -1.0000, -1.0000, -1.0000],\n",
       "          [-1.0000, -1.0000, -1.0000, -1.0000, -1.0000, -0.8588,  0.9922,\n",
       "            0.9922,  0.9922,  0.9922, -0.7725, -1.0000, -1.0000, -1.0000,\n",
       "           -1.0000, -1.0000, -1.0000, -1.0000, -0.8353,  0.2627,  0.9922,\n",
       "            0.9922,  0.3412, -1.0000, -1.0000, -1.0000, -1.0000, -1.0000],\n",
       "          [-1.0000, -1.0000, -1.0000, -1.0000, -1.0000, -0.9843,  0.2784,\n",
       "            0.9922,  0.9922,  0.9922,  0.5686, -0.9059, -0.4824, -1.0000,\n",
       "           -1.0000, -1.0000, -1.0000, -0.6235,  0.6392,  0.9922,  0.9922,\n",
       "            0.9922, -0.3255, -1.0000, -1.0000, -1.0000, -1.0000, -1.0000],\n",
       "          [-1.0000, -1.0000, -1.0000, -1.0000, -1.0000, -1.0000, -0.2627,\n",
       "            0.9922,  0.9922,  0.9922,  0.9922,  0.5843, -0.4824, -0.6235,\n",
       "           -0.6235, -0.7333, -0.6784,  0.9922,  0.9922,  0.9922,  0.9922,\n",
       "            0.8745, -0.3255, -0.9137, -1.0000, -1.0000, -1.0000, -1.0000],\n",
       "          [-1.0000, -1.0000, -1.0000, -1.0000, -1.0000, -1.0000, -0.8824,\n",
       "            0.6157,  0.9922,  0.9922,  0.9922,  0.9922,  0.9922,  0.9922,\n",
       "            0.9922,  0.9922,  0.8275,  0.9922,  0.9922,  0.9922,  0.9922,\n",
       "           -0.4510, -1.0000, -1.0000, -1.0000, -1.0000, -1.0000, -1.0000],\n",
       "          [-1.0000, -1.0000, -1.0000, -1.0000, -1.0000, -1.0000, -1.0000,\n",
       "           -1.0000, -0.5294, -0.3255,  0.9059,  0.9922,  0.9922,  0.9922,\n",
       "            0.9922,  0.9922,  0.9922,  0.9922,  0.9922,  0.9922,  0.9059,\n",
       "           -1.0000, -1.0000, -1.0000, -1.0000, -1.0000, -1.0000, -1.0000],\n",
       "          [-1.0000, -1.0000, -1.0000, -1.0000, -1.0000, -1.0000, -1.0000,\n",
       "           -1.0000, -1.0000, -1.0000, -0.1059,  0.9922,  0.9922,  0.9922,\n",
       "            0.9922,  0.9922,  0.9922,  1.0000,  0.1451, -0.8510, -0.8824,\n",
       "           -1.0000, -1.0000, -1.0000, -1.0000, -1.0000, -1.0000, -1.0000],\n",
       "          [-1.0000, -1.0000, -1.0000, -1.0000, -1.0000, -1.0000, -1.0000,\n",
       "           -1.0000, -1.0000, -1.0000, -0.8980,  0.4275,  0.9922,  0.1451,\n",
       "            0.9922,  1.0000,  0.9922, -1.0000, -1.0000, -1.0000, -1.0000,\n",
       "           -1.0000, -1.0000, -1.0000, -1.0000, -1.0000, -1.0000, -1.0000],\n",
       "          [-1.0000, -1.0000, -1.0000, -1.0000, -1.0000, -1.0000, -1.0000,\n",
       "           -1.0000, -1.0000, -1.0000, -1.0000, -0.9373, -0.4039, -1.0000,\n",
       "           -1.0000, -1.0000, -1.0000, -1.0000, -1.0000, -1.0000, -1.0000,\n",
       "           -1.0000, -1.0000, -1.0000, -1.0000, -1.0000, -1.0000, -1.0000],\n",
       "          [-1.0000, -1.0000, -1.0000, -1.0000, -1.0000, -1.0000, -1.0000,\n",
       "           -1.0000, -1.0000, -1.0000, -1.0000, -1.0000, -1.0000, -1.0000,\n",
       "           -1.0000, -1.0000, -1.0000, -1.0000, -1.0000, -1.0000, -1.0000,\n",
       "           -1.0000, -1.0000, -1.0000, -1.0000, -1.0000, -1.0000, -1.0000],\n",
       "          [-1.0000, -1.0000, -1.0000, -1.0000, -1.0000, -1.0000, -1.0000,\n",
       "           -1.0000, -1.0000, -1.0000, -1.0000, -1.0000, -1.0000, -1.0000,\n",
       "           -1.0000, -1.0000, -1.0000, -1.0000, -1.0000, -1.0000, -1.0000,\n",
       "           -1.0000, -1.0000, -1.0000, -1.0000, -1.0000, -1.0000, -1.0000],\n",
       "          [-1.0000, -1.0000, -1.0000, -1.0000, -1.0000, -1.0000, -1.0000,\n",
       "           -1.0000, -1.0000, -1.0000, -1.0000, -1.0000, -1.0000, -1.0000,\n",
       "           -1.0000, -1.0000, -1.0000, -1.0000, -1.0000, -1.0000, -1.0000,\n",
       "           -1.0000, -1.0000, -1.0000, -1.0000, -1.0000, -1.0000, -1.0000]]]),\n",
       " 0)"
      ]
     },
     "execution_count": 7,
     "metadata": {},
     "output_type": "execute_result"
    }
   ],
   "source": [
    "train_dataset[1]"
   ]
  },
  {
   "cell_type": "code",
   "execution_count": null,
   "metadata": {},
   "outputs": [],
   "source": [
    "batch_size = 200\n",
    "train_loader = torch.utils.data.DataLoader(dataset=train_dataset, batch_size=batch_size, shuffle=True)\n",
    "test_loader = torch.utils.data.DataLoader(dataset=test_dataset, batch_size=batch_size, shuffle=False) # num_workers=2 slows down the training"
   ]
  },
  {
   "cell_type": "code",
   "execution_count": 9,
   "metadata": {},
   "outputs": [
    {
     "name": "stdout",
     "output_type": "stream",
     "text": [
      "input size: torch.Size([1, 28, 28])\n"
     ]
    },
    {
     "data": {
      "image/png": "[encoded data removed]",
      "text/plain": [
       "<Figure size 640x480 with 1 Axes>"
      ]
     },
     "metadata": {},
     "output_type": "display_data"
    }
   ],
   "source": [
    "for example_data, example_label in train_loader:\n",
    "    example_image = example_data[0]\n",
    "    print(f\"input size: {example_image.size()}\")\n",
    "    example_image_numpy = example_image.permute(1, 2, 0).numpy()\n",
    "    plt.imshow(example_image_numpy)\n",
    "    plt.title(f\"Label: {example_label[0]}\")\n",
    "    plt.show()\n",
    "\n",
    "    break"
   ]
  },
  {
   "cell_type": "code",
   "execution_count": 10,
   "metadata": {},
   "outputs": [],
   "source": [
    "from models import SimpleCNN"
   ]
  },
  {
   "cell_type": "code",
   "execution_count": null,
   "metadata": {},
   "outputs": [],
   "source": [
    "model = SimpleCNN().to(device)\n",
    "criterion = nn.CrossEntropyLoss()\n",
    "optimizer = optim.SGD(model.parameters(), lr=0.001, momentum=0.9)   # Stochastic Gradient Descent\n"
   ]
  },
  {
   "cell_type": "code",
   "execution_count": null,
   "metadata": {},
   "outputs": [
    {
     "name": "stdout",
     "output_type": "stream",
     "text": [
      "Epoch: 1, Batch: 100, Loss: 2.3026\n",
      "Epoch: 2, Batch: 100, Loss: 3.2334\n",
      "Epoch: 3, Batch: 100, Loss: 2.8678\n",
      "Epoch: 4, Batch: 100, Loss: 0.8494\n",
      "Epoch: 5, Batch: 100, Loss: 0.6771\n",
      "Epoch: 6, Batch: 100, Loss: 0.4577\n",
      "Epoch: 7, Batch: 100, Loss: 0.3976\n",
      "Epoch: 8, Batch: 100, Loss: 0.3666\n",
      "Epoch: 9, Batch: 100, Loss: 0.2716\n",
      "Epoch: 10, Batch: 100, Loss: 0.3007\n",
      "Epoch: 11, Batch: 100, Loss: 0.2973\n",
      "Epoch: 12, Batch: 100, Loss: 0.2156\n",
      "Epoch: 13, Batch: 100, Loss: 0.1827\n",
      "Epoch: 14, Batch: 100, Loss: 0.1686\n",
      "Epoch: 15, Batch: 100, Loss: 0.1578\n",
      "Epoch: 16, Batch: 100, Loss: 0.1463\n",
      "Epoch: 17, Batch: 100, Loss: 0.1299\n",
      "Epoch: 18, Batch: 100, Loss: 0.1352\n",
      "Epoch: 19, Batch: 100, Loss: 0.1262\n",
      "Epoch: 20, Batch: 100, Loss: 0.1174\n",
      "Epoch: 21, Batch: 100, Loss: 0.1177\n",
      "Epoch: 22, Batch: 100, Loss: 0.1215\n",
      "Epoch: 23, Batch: 100, Loss: 0.1049\n",
      "Epoch: 24, Batch: 100, Loss: 0.1025\n",
      "Epoch: 25, Batch: 100, Loss: 0.0985\n",
      "Epoch: 26, Batch: 100, Loss: 0.1037\n",
      "Epoch: 27, Batch: 100, Loss: 0.0885\n",
      "Epoch: 28, Batch: 100, Loss: 0.0865\n",
      "Epoch: 29, Batch: 100, Loss: 0.0819\n",
      "Epoch: 30, Batch: 100, Loss: 0.0780\n",
      "Epoch: 31, Batch: 100, Loss: 0.0793\n",
      "Epoch: 32, Batch: 100, Loss: 0.0711\n",
      "Epoch: 33, Batch: 100, Loss: 0.0750\n",
      "Epoch: 34, Batch: 100, Loss: 0.0709\n",
      "Epoch: 35, Batch: 100, Loss: 0.0671\n",
      "Epoch: 36, Batch: 100, Loss: 0.0654\n",
      "Epoch: 37, Batch: 100, Loss: 0.0664\n",
      "Epoch: 38, Batch: 100, Loss: 0.0581\n",
      "Epoch: 39, Batch: 100, Loss: 0.0613\n",
      "Epoch: 40, Batch: 100, Loss: 0.0577\n",
      "Epoch: 41, Batch: 100, Loss: 0.0952\n",
      "Epoch: 42, Batch: 100, Loss: 0.0585\n",
      "Epoch: 43, Batch: 100, Loss: 0.0585\n",
      "Epoch: 44, Batch: 100, Loss: 0.0570\n",
      "Epoch: 45, Batch: 100, Loss: 0.0542\n",
      "Epoch: 46, Batch: 100, Loss: 0.0534\n",
      "Epoch: 47, Batch: 100, Loss: 0.0525\n",
      "Epoch: 48, Batch: 100, Loss: 0.0499\n",
      "Epoch: 49, Batch: 100, Loss: 0.0484\n",
      "Epoch: 50, Batch: 100, Loss: 0.0479\n",
      "Epoch: 51, Batch: 100, Loss: 0.0470\n",
      "Epoch: 52, Batch: 100, Loss: 0.0441\n",
      "Epoch: 53, Batch: 100, Loss: 0.0472\n",
      "Epoch: 54, Batch: 100, Loss: 0.0456\n",
      "Epoch: 55, Batch: 100, Loss: 0.0385\n",
      "Epoch: 56, Batch: 100, Loss: 0.0407\n",
      "Epoch: 57, Batch: 100, Loss: 0.1331\n",
      "Epoch: 58, Batch: 100, Loss: 0.0554\n",
      "Epoch: 59, Batch: 100, Loss: 0.0471\n",
      "Epoch: 60, Batch: 100, Loss: 0.0443\n",
      "Epoch: 61, Batch: 100, Loss: 0.0414\n",
      "Epoch: 62, Batch: 100, Loss: 0.0395\n",
      "Epoch: 63, Batch: 100, Loss: 0.0383\n",
      "Epoch: 64, Batch: 100, Loss: 0.0364\n",
      "Epoch: 65, Batch: 100, Loss: 0.0352\n",
      "Epoch: 66, Batch: 100, Loss: 0.0380\n",
      "Epoch: 67, Batch: 100, Loss: 0.0314\n",
      "Epoch: 68, Batch: 100, Loss: 0.0336\n",
      "Epoch: 69, Batch: 100, Loss: 0.0334\n",
      "Epoch: 70, Batch: 100, Loss: 0.0385\n",
      "Epoch: 71, Batch: 100, Loss: 0.0450\n",
      "Epoch: 72, Batch: 100, Loss: 0.0330\n",
      "Epoch: 73, Batch: 100, Loss: 0.0300\n",
      "Epoch: 74, Batch: 100, Loss: 0.0323\n",
      "Epoch: 75, Batch: 100, Loss: 0.0299\n",
      "Epoch: 76, Batch: 100, Loss: 0.0302\n",
      "Epoch: 77, Batch: 100, Loss: 0.2120\n",
      "Epoch: 78, Batch: 100, Loss: 0.0660\n",
      "Epoch: 79, Batch: 100, Loss: 0.0492\n",
      "Epoch: 80, Batch: 100, Loss: 0.0424\n",
      "Epoch: 81, Batch: 100, Loss: 0.0417\n",
      "Epoch: 82, Batch: 100, Loss: 0.0369\n",
      "Epoch: 83, Batch: 100, Loss: 0.0351\n",
      "Epoch: 84, Batch: 100, Loss: 0.0332\n",
      "Epoch: 85, Batch: 100, Loss: 0.0330\n"
     ]
    }
   ],
   "source": [
    "num_epochs = 150\n",
    "running_loss = 0.0\n",
    "\n",
    "for epoch in range(num_epochs):\n",
    "    for i , data in enumerate(train_loader, 0):\n",
    "        inputs, labels = data\n",
    "        inputs, labels = inputs.to(device), labels.to(device)\n",
    "\n",
    "        optimizer.zero_grad()\n",
    "\n",
    "        outputs = model(inputs.float())\n",
    "        loss = criterion(outputs, labels)\n",
    "        loss.backward()\n",
    "        optimizer.step()\n",
    "\n",
    "        running_loss += loss.item()\n",
    "        if i % 100 == 99:\n",
    "            print(f\"Epoch: {epoch + 1}, Batch: {i + 1}, Loss: {running_loss / 100:.4f}\")\n",
    "            running_loss = 0.0\n",
    "\n",
    "print(\"Finished Training\")\n"
   ]
  },
  {
   "cell_type": "code",
   "execution_count": null,
   "metadata": {},
   "outputs": [],
   "source": [
    "#save the model \n",
    "torch.save(model.state_dict(), 'model.pth')"
   ]
  }
 ],
 "metadata": {
  "kernelspec": {
   "display_name": "Python 3",
   "language": "python",
   "name": "python3"
  },
  "language_info": {
   "codemirror_mode": {
    "name": "ipython",
    "version": 3
   },
   "file_extension": ".py",
   "mimetype": "text/x-python",
   "name": "python",
   "nbconvert_exporter": "python",
   "pygments_lexer": "ipython3",
   "version": "3.10.0"
  }
 },
 "nbformat": 4,
 "nbformat_minor": 2
}
