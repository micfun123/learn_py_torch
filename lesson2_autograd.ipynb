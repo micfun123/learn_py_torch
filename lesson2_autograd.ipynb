{
 "cells": [
  {
   "cell_type": "code",
   "execution_count": 17,
   "metadata": {},
   "outputs": [
    {
     "name": "stdout",
     "output_type": "stream",
     "text": [
      "tensor([ 1.5503, -0.1534, -0.7811], requires_grad=True)\n",
      "tensor([3.5503, 1.8466, 1.2189], grad_fn=<AddBackward0>)\n",
      "tensor(11.6670, grad_fn=<MeanBackward0>)\n",
      "tensor([4.7337, 2.4622, 1.6253])\n"
     ]
    }
   ],
   "source": [
    "import torch\n",
    "x = torch.randn(3,requires_grad=True)\n",
    "print(x)\n",
    "y = x +2\n",
    "print(y)\n",
    "\n",
    "z = y * y * 2\n",
    "z = z.mean()\n",
    "print(z)\n",
    "z = z.backward()\n",
    "print(x.grad)"
   ]
  }
 ],
 "metadata": {
  "kernelspec": {
   "display_name": "Python 3",
   "language": "python",
   "name": "python3"
  },
  "language_info": {
   "codemirror_mode": {
    "name": "ipython",
    "version": 3
   },
   "file_extension": ".py",
   "mimetype": "text/x-python",
   "name": "python",
   "nbconvert_exporter": "python",
   "pygments_lexer": "ipython3",
   "version": "3.10.0"
  }
 },
 "nbformat": 4,
 "nbformat_minor": 2
}
