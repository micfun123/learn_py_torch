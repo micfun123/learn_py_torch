{
 "cells": [
  {
   "cell_type": "code",
   "execution_count": 86,
   "metadata": {},
   "outputs": [],
   "source": [
    "import pandas as pd\n",
    "import numpy as np\n",
    "import matplotlib.pyplot as plt\n",
    "\n",
    "import torch\n",
    "import torch.nn as nn\n",
    "import torch.optim as optim\n",
    "\n",
    "import os\n",
    "import requests\n"
   ]
  },
  {
   "cell_type": "code",
   "execution_count": 87,
   "metadata": {},
   "outputs": [
    {
     "data": {
      "text/plain": [
       "[<matplotlib.lines.Line2D at 0x1969cb30d60>]"
      ]
     },
     "execution_count": 87,
     "metadata": {},
     "output_type": "execute_result"
    },
    {
     "data": {
      "image/png": "[encoded data removed]",
      "text/plain": [
       "<Figure size 640x480 with 1 Axes>"
      ]
     },
     "metadata": {},
     "output_type": "display_data"
    }
   ],
   "source": [
    "data = pd.read_csv(\"AMZN.csv\")\n",
    "data = data[['Date','Close']]\n",
    "data['Date'] = pd.to_datetime(data['Date'])\n",
    "plt.plot(data['Date'],data['Close'])\n",
    "\n",
    "# #reset it up using my API\n",
    "# alphavantage_api_key = os.getenv(\"ALPHAVANTAGE_API_KEY\")\n",
    "# alphavantage_api_url = f\"https://www.alphavantage.co/query?function=TIME_SERIES_DAILY&symbol=MSFT&outputsize=full&apikey={alphavantage_api_key}\"\n",
    "# response = requests.get(alphavantage_api_url)\n",
    "\n",
    "# data = response.json()\n",
    "# data = data['Time Series (Daily)']\n",
    "# data = pd.DataFrame(data).T\n",
    "# data = data[['4. close']]\n",
    "# data = data.reset_index()\n",
    "# data.columns = ['Date','Close']\n",
    "# data['Date'] = pd.to_datetime(data['Date'])"
   ]
  },
  {
   "cell_type": "code",
   "execution_count": 88,
   "metadata": {},
   "outputs": [
    {
     "name": "stdout",
     "output_type": "stream",
     "text": [
      "cuda\n"
     ]
    }
   ],
   "source": [
    "device = torch.device('cuda' if torch.cuda.is_available() else 'cpu')\n",
    "print(device)"
   ]
  },
  {
   "cell_type": "code",
   "execution_count": 89,
   "metadata": {},
   "outputs": [
    {
     "data": {
      "text/plain": [
       "array([[7.91670000e-02, 7.50000000e-02, 6.97920000e-02, ...,\n",
       "        8.54170000e-02, 8.64580000e-02, 9.79170000e-02],\n",
       "       [7.65630000e-02, 7.91670000e-02, 7.50000000e-02, ...,\n",
       "        8.17710000e-02, 8.54170000e-02, 8.64580000e-02],\n",
       "       [7.52600000e-02, 7.65630000e-02, 7.91670000e-02, ...,\n",
       "        7.13540000e-02, 8.17710000e-02, 8.54170000e-02],\n",
       "       ...,\n",
       "       [1.02410004e+02, 1.03290001e+02, 1.02000000e+02, ...,\n",
       "        9.80400010e+01, 9.81299970e+01, 9.87099990e+01],\n",
       "       [1.03949997e+02, 1.02410004e+02, 1.03290001e+02, ...,\n",
       "        9.72399980e+01, 9.80400010e+01, 9.81299970e+01],\n",
       "       [1.01099998e+02, 1.03949997e+02, 1.02410004e+02, ...,\n",
       "        1.00250000e+02, 9.72399980e+01, 9.80400010e+01]])"
      ]
     },
     "execution_count": 89,
     "metadata": {},
     "output_type": "execute_result"
    }
   ],
   "source": [
    "from copy import deepcopy as dc\n",
    "\n",
    "def prepare_dataframe_for_lstm(df,n_steps):\n",
    "    df = dc(df)\n",
    "\n",
    "    df.set_index('Date', inplace=True)\n",
    "\n",
    "    for i in range(1,n_steps +1):\n",
    "        df[f'Close(t-{i})'] = df['Close'].shift(i)\n",
    "\n",
    "    df.dropna(inplace = True)\n",
    "\n",
    "    return df\n",
    "\n",
    "\n",
    "lookback = 7\n",
    "shift_df = prepare_dataframe_for_lstm(data,lookback)\n",
    "\n",
    "shift_df_as_np = shift_df.to_numpy()\n",
    "shift_df_as_np"
   ]
  },
  {
   "cell_type": "code",
   "execution_count": 90,
   "metadata": {},
   "outputs": [
    {
     "data": {
      "text/plain": [
       "array([[-0.99991063, -0.99995531, -1.        , ..., -0.99983244,\n",
       "        -0.99982128, -0.99969839],\n",
       "       [-0.99993855, -0.99991063, -0.99994415, ..., -0.99987154,\n",
       "        -0.99983244, -0.99982128],\n",
       "       [-0.99995253, -0.99993855, -0.99989946, ..., -0.99998325,\n",
       "        -0.99987154, -0.99983244],\n",
       "       ...,\n",
       "       [ 0.09747299,  0.10690997,  0.09308121, ...,  0.0506149 ,\n",
       "         0.05158   ,  0.05779984],\n",
       "       [ 0.11398769,  0.09747299,  0.10691495, ...,  0.04203581,\n",
       "         0.0506149 ,  0.05158   ],\n",
       "       [ 0.08342464,  0.11398769,  0.09747802, ...,  0.07431453,\n",
       "         0.04203581,  0.0506149 ]])"
      ]
     },
     "execution_count": 90,
     "metadata": {},
     "output_type": "execute_result"
    }
   ],
   "source": [
    "from sklearn.preprocessing import MinMaxScaler\n",
    "\n",
    "scaler = MinMaxScaler(feature_range=(-1,1))\n",
    "shift_df_as_np = scaler.fit_transform(shift_df_as_np)\n",
    "\n",
    "shift_df_as_np"
   ]
  },
  {
   "cell_type": "code",
   "execution_count": 91,
   "metadata": {},
   "outputs": [
    {
     "data": {
      "text/plain": [
       "((6509, 7), (6509,))"
      ]
     },
     "execution_count": 91,
     "metadata": {},
     "output_type": "execute_result"
    }
   ],
   "source": [
    "X = shift_df_as_np[:, 1:]\n",
    "Y = shift_df_as_np[:, 0]\n",
    "X.shape, Y.shape"
   ]
  },
  {
   "cell_type": "code",
   "execution_count": 92,
   "metadata": {},
   "outputs": [],
   "source": [
    "X = dc(np.flip(X,axis=1))\n"
   ]
  },
  {
   "cell_type": "code",
   "execution_count": 93,
   "metadata": {},
   "outputs": [
    {
     "data": {
      "text/plain": [
       "((6183, 7), (326, 7), (6183,), (326,))"
      ]
     },
     "execution_count": 93,
     "metadata": {},
     "output_type": "execute_result"
    }
   ],
   "source": [
    "split_index = int(len(X) * 0.95)\n",
    "split_index\n",
    "\n",
    "X_train = X[:split_index]\n",
    "X_test = X[split_index:]\n",
    "\n",
    "Y_train = Y[:split_index]\n",
    "Y_test = Y[split_index:]\n",
    "\n",
    "X_train.shape , X_test.shape, Y_train.shape, Y_test.shape"
   ]
  },
  {
   "cell_type": "code",
   "execution_count": 94,
   "metadata": {},
   "outputs": [
    {
     "data": {
      "text/plain": [
       "((6183, 7, 1), (326, 7, 1), (6183, 1), (326, 1))"
      ]
     },
     "execution_count": 94,
     "metadata": {},
     "output_type": "execute_result"
    }
   ],
   "source": [
    "X_train = X_train.reshape((-1,lookback,1))\n",
    "X_test = X_test.reshape((-1,lookback,1))\n",
    "\n",
    "Y_train = Y_train.reshape((-1,1))\n",
    "Y_test = Y_test.reshape((-1,1))\n",
    "\n",
    "X_train.shape , X_test.shape, Y_train.shape, Y_test.shape"
   ]
  },
  {
   "cell_type": "code",
   "execution_count": 95,
   "metadata": {},
   "outputs": [
    {
     "data": {
      "text/plain": [
       "(torch.Size([6183, 7, 1]),\n",
       " torch.Size([326, 7, 1]),\n",
       " torch.Size([6183, 1]),\n",
       " torch.Size([326, 1]))"
      ]
     },
     "execution_count": 95,
     "metadata": {},
     "output_type": "execute_result"
    }
   ],
   "source": [
    "X_train = torch.tensor(X_train).float()\n",
    "X_test = torch.tensor(X_test).float()\n",
    "\n",
    "Y_train = torch.tensor(Y_train).float()\n",
    "Y_test = torch.tensor(Y_test).float()\n",
    "X_train.shape , X_test.shape, Y_train.shape, Y_test.shape"
   ]
  },
  {
   "cell_type": "code",
   "execution_count": 96,
   "metadata": {},
   "outputs": [],
   "source": [
    "from torch.utils.data import DataLoader, TensorDataset\n",
    "\n",
    "class TimeSeriesDataset(TensorDataset):\n",
    "    def __init__(self, X, Y):\n",
    "        self.X = X\n",
    "        self.Y = Y\n",
    "\n",
    "    def __len__(self):\n",
    "        return len(self.X)\n",
    "\n",
    "    def __getitem__(self, idx):\n",
    "        return self.X[idx], self.Y[idx]\n",
    "    \n",
    "train_dataset = TimeSeriesDataset(X_train, Y_train)\n",
    "test_dataset = TimeSeriesDataset(X_test, Y_test)"
   ]
  },
  {
   "cell_type": "code",
   "execution_count": 97,
   "metadata": {},
   "outputs": [],
   "source": [
    "batch_szie = 16\n",
    "\n",
    "train_loader = DataLoader(train_dataset,batch_size=batch_szie,shuffle=True)\n",
    "test_loader = DataLoader(test_dataset,batch_size=batch_szie,shuffle=False)\n",
    "\n"
   ]
  },
  {
   "cell_type": "code",
   "execution_count": 98,
   "metadata": {},
   "outputs": [
    {
     "name": "stdout",
     "output_type": "stream",
     "text": [
      "torch.Size([16, 7, 1]) torch.Size([16, 1])\n"
     ]
    }
   ],
   "source": [
    "for _, batch in enumerate(train_loader):\n",
    "    x_batch, y_batch = batch[0].to(device), batch[1].to(device)\n",
    "    print(x_batch.shape, y_batch.shape)\n",
    "    break"
   ]
  },
  {
   "cell_type": "code",
   "execution_count": 99,
   "metadata": {},
   "outputs": [
    {
     "data": {
      "text/plain": [
       "LSTM(\n",
       "  (lstm): LSTM(1, 4, batch_first=True)\n",
       "  (fc): Linear(in_features=4, out_features=1, bias=True)\n",
       ")"
      ]
     },
     "execution_count": 99,
     "metadata": {},
     "output_type": "execute_result"
    }
   ],
   "source": [
    "class LSTM(nn.Module):\n",
    "    def __init__(self, input_size, hidden_size, num_layers, output_size):\n",
    "        super(LSTM, self).__init__()\n",
    "        self.hidden_size = hidden_size\n",
    "        self.num_layers = num_layers\n",
    "        self.lstm = nn.LSTM(input_size, hidden_size, num_layers, batch_first=True)\n",
    "        self.fc = nn.Linear(hidden_size, output_size)\n",
    "\n",
    "    def forward(self, x):\n",
    "        batch_szie = x.size(0)\n",
    "        h0 = torch.zeros(self.num_layers, batch_szie, self.hidden_size).to(device)\n",
    "        c0 = torch.zeros(self.num_layers, batch_szie, self.hidden_size).to(device)\n",
    "        out, _ = self.lstm(x, (h0, c0))\n",
    "        out = self.fc(out[:, -1, :])\n",
    "        return out\n",
    "    \n",
    "model = LSTM(1,4,1,1).to(device)\n",
    "model"
   ]
  },
  {
   "cell_type": "code",
   "execution_count": 100,
   "metadata": {},
   "outputs": [],
   "source": [
    "learning_rate = 0.001\n",
    "num_epochs = 10\n",
    "loss_function = nn.MSELoss()\n",
    "optimizer = torch.optim.Adam(model.parameters(), lr=learning_rate)\n",
    "criterion = nn.MSELoss()\n"
   ]
  },
  {
   "cell_type": "code",
   "execution_count": 101,
   "metadata": {},
   "outputs": [],
   "source": [
    "epoch = 0"
   ]
  },
  {
   "cell_type": "code",
   "execution_count": 102,
   "metadata": {},
   "outputs": [],
   "source": [
    "def train_one_epoch():\n",
    "    model.train(True)\n",
    "    print(f'Epoch: {epoch + 1}')\n",
    "    running_loss = 0.0\n",
    "\n",
    "    for batch_index, batch in enumerate(train_loader):\n",
    "        x_batch, y_batch = batch[0].to(device), batch[1].to(device)\n",
    "\n",
    "        output = model(x_batch)\n",
    "        loss = loss_function(output, y_batch)\n",
    "        running_loss += loss.item()\n",
    "\n",
    "        optimizer.zero_grad()\n",
    "        loss.backward()\n",
    "        optimizer.step()\n",
    "\n",
    "        if batch_index % 100 == 99:  # print every 100 batches\n",
    "            avg_loss_across_batches = running_loss / 100\n",
    "            print('Batch {0}, Loss: {1:.3f}'.format(batch_index+1,\n",
    "                                                    avg_loss_across_batches))\n",
    "            running_loss = 0.0\n",
    "    print()"
   ]
  },
  {
   "cell_type": "code",
   "execution_count": 103,
   "metadata": {},
   "outputs": [],
   "source": [
    "def validate_one_epoch():\n",
    "    model.train(False)\n",
    "    running_loss = 0.0\n",
    "\n",
    "    for batch_index, batch in enumerate(test_loader):\n",
    "        x_batch, y_batch = batch[0].to(device), batch[1].to(device)\n",
    "\n",
    "        with torch.no_grad():\n",
    "            output = model(x_batch)\n",
    "            loss = loss_function(output, y_batch)\n",
    "            running_loss += loss.item()\n",
    "\n",
    "    avg_loss_across_batches = running_loss / len(test_loader)\n",
    "\n",
    "    print('Val Loss: {0:.3f}'.format(avg_loss_across_batches))\n",
    "    print('***************************************************')\n",
    "    print()"
   ]
  },
  {
   "cell_type": "code",
   "execution_count": 104,
   "metadata": {},
   "outputs": [
    {
     "name": "stdout",
     "output_type": "stream",
     "text": [
      "Epoch: 1\n",
      "Batch 100, Loss: 0.212\n",
      "Batch 200, Loss: 0.085\n",
      "Batch 300, Loss: 0.027\n",
      "\n",
      "Val Loss: 0.051\n",
      "***************************************************\n",
      "\n",
      "Epoch: 2\n",
      "Batch 100, Loss: 0.014\n",
      "Batch 200, Loss: 0.008\n",
      "Batch 300, Loss: 0.005\n",
      "\n",
      "Val Loss: 0.011\n",
      "***************************************************\n",
      "\n",
      "Epoch: 3\n",
      "Batch 100, Loss: 0.002\n",
      "Batch 200, Loss: 0.001\n",
      "Batch 300, Loss: 0.001\n",
      "\n",
      "Val Loss: 0.010\n",
      "***************************************************\n",
      "\n",
      "Epoch: 4\n",
      "Batch 100, Loss: 0.000\n",
      "Batch 200, Loss: 0.001\n",
      "Batch 300, Loss: 0.000\n",
      "\n",
      "Val Loss: 0.007\n",
      "***************************************************\n",
      "\n",
      "Epoch: 5\n",
      "Batch 100, Loss: 0.000\n",
      "Batch 200, Loss: 0.000\n",
      "Batch 300, Loss: 0.000\n",
      "\n",
      "Val Loss: 0.006\n",
      "***************************************************\n",
      "\n",
      "Epoch: 6\n",
      "Batch 100, Loss: 0.000\n",
      "Batch 200, Loss: 0.000\n",
      "Batch 300, Loss: 0.000\n",
      "\n",
      "Val Loss: 0.006\n",
      "***************************************************\n",
      "\n",
      "Epoch: 7\n",
      "Batch 100, Loss: 0.000\n",
      "Batch 200, Loss: 0.000\n",
      "Batch 300, Loss: 0.000\n",
      "\n",
      "Val Loss: 0.005\n",
      "***************************************************\n",
      "\n",
      "Epoch: 8\n",
      "Batch 100, Loss: 0.000\n",
      "Batch 200, Loss: 0.000\n",
      "Batch 300, Loss: 0.000\n",
      "\n",
      "Val Loss: 0.004\n",
      "***************************************************\n",
      "\n",
      "Epoch: 9\n",
      "Batch 100, Loss: 0.000\n",
      "Batch 200, Loss: 0.000\n",
      "Batch 300, Loss: 0.000\n",
      "\n",
      "Val Loss: 0.004\n",
      "***************************************************\n",
      "\n",
      "Epoch: 10\n",
      "Batch 100, Loss: 0.000\n",
      "Batch 200, Loss: 0.000\n",
      "Batch 300, Loss: 0.000\n",
      "\n",
      "Val Loss: 0.004\n",
      "***************************************************\n",
      "\n"
     ]
    }
   ],
   "source": [
    "\n",
    "for epoch in range(num_epochs):\n",
    "    train_one_epoch()\n",
    "    validate_one_epoch()"
   ]
  },
  {
   "cell_type": "code",
   "execution_count": 105,
   "metadata": {},
   "outputs": [
    {
     "data": {
      "image/png": "[encoded data removed]",
      "text/plain": [
       "<Figure size 640x480 with 1 Axes>"
      ]
     },
     "metadata": {},
     "output_type": "display_data"
    }
   ],
   "source": [
    "with torch.no_grad():\n",
    "    predicted = model(X_train.to(device)).to('cpu').numpy()\n",
    "\n",
    "plt.plot(Y_train, label='True')\n",
    "plt.plot(predicted, label='Predicted')\n",
    "plt.legend()\n",
    "plt.show()\n"
   ]
  },
  {
   "cell_type": "code",
   "execution_count": 106,
   "metadata": {},
   "outputs": [
    {
     "name": "stdout",
     "output_type": "stream",
     "text": [
      "[  0.45319852   0.4515422    0.45050839 ... 171.2629915  170.89128646\n",
      " 171.18424401]\n"
     ]
    }
   ],
   "source": [
    "#un transform the data\n",
    "\n",
    "train_predicted = predicted.flatten()\n",
    "dummies = np.zeros((X_train.shape[0],lookback+1))\n",
    "dummies[:,0] = train_predicted\n",
    "dummies = scaler.inverse_transform(dummies)\n",
    "\n",
    "train_predicted = dc(dummies[:,0])\n",
    "print(train_predicted)\n"
   ]
  },
  {
   "cell_type": "code",
   "execution_count": 107,
   "metadata": {},
   "outputs": [
    {
     "name": "stdout",
     "output_type": "stream",
     "text": [
      "[7.91646265e-02 7.65634249e-02 7.52572660e-02 ... 1.69091505e+02\n",
      " 1.73315001e+02 1.68871003e+02]\n"
     ]
    }
   ],
   "source": [
    "dummies = np.zeros((X_train.shape[0],lookback+1))\n",
    "dummies[:,0] = Y_train.flatten()\n",
    "dummies = scaler.inverse_transform(dummies)\n",
    "\n",
    "new_Y_train = dc(dummies[:,0])\n",
    "print(new_Y_train)\n"
   ]
  },
  {
   "cell_type": "code",
   "execution_count": null,
   "metadata": {},
   "outputs": [],
   "source": [
    "plt.plot(new_Y_train, label='Actual Close Price')\n",
    "plt.plot(train_predicted, label='Predicted Close Price')\n",
    "plt.xlabel('Day')\n",
    "plt.ylabel('Close Price')\n",
    "plt.title('Close Price Prediction')\n",
    "plt.legend()\n",
    "plt.show()"
   ]
  },
  {
   "cell_type": "code",
   "execution_count": null,
   "metadata": {},
   "outputs": [
    {
     "data": {
      "text/plain": [
       "array([ 58.54764646,  58.82736206,  59.32203503,  59.51095698,\n",
       "        59.72711433,  59.8074183 ,  60.03534619,  59.947748  ,\n",
       "        60.22831301,  59.88735823,  59.67280534,  59.34730192,\n",
       "        57.93818035,  56.26571139,  54.90762248,  53.64000361,\n",
       "        52.95453457,  51.9689908 ,  50.74865636,  49.77079783,\n",
       "        49.19606358,  48.58577502,  47.81133252,  46.151106  ,\n",
       "        44.84057117,  43.91700815,  43.66075275,  43.44521561,\n",
       "        43.23306267,  42.60234756,  42.22953275,  42.42716464,\n",
       "        42.95838967,  43.44440664,  44.87177053,  46.53709357,\n",
       "        48.64085253,  50.8296884 ,  51.94574634,  52.48778462,\n",
       "        53.48308999,  54.20772676,  54.05996801,  53.83267381,\n",
       "        53.79006794,  55.50085522,  57.56618801,  59.72670985,\n",
       "        61.23084519,  62.7978916 ,  64.22734534,  65.43723056,\n",
       "        66.00560089,  66.26863817,  66.25721819,  66.0972844 ,\n",
       "        65.74385796,  65.66979656,  66.29290734,  66.35209713,\n",
       "        66.62004218,  66.54572461,  66.41758343,  66.98120778,\n",
       "        67.26228515,  66.96498789,  66.90277794,  66.4656094 ,\n",
       "        65.60990566,  64.42919737,  63.1366352 ,  62.098306  ,\n",
       "        61.72003063,  60.70655036,  58.17785183,  56.05149557,\n",
       "        54.44212644,  53.44420539,  52.48129936,  51.39364983,\n",
       "        50.52620251,  50.83962527,  51.53724238,  52.17856851,\n",
       "        52.40235717,  52.73222903,  53.31266653,  54.18677439,\n",
       "        55.22321598,  55.92402853,  56.98240676,  57.72728132,\n",
       "        58.66918104,  59.41189835,  59.97684403,  60.5255833 ,\n",
       "        60.77745677,  60.99957355,  61.66969909,  62.47887345,\n",
       "        63.08068129,  63.76730986,  64.41586281,  65.41517259,\n",
       "        66.10990436,  66.70855721,  66.98785484,  67.20259649,\n",
       "        67.36324487,  67.62405748,  67.83422844,  67.98062542,\n",
       "        68.13538179,  68.20422532,  68.41307495,  68.47099736,\n",
       "        68.48590941,  68.55130132,  68.59005109,  68.68289412,\n",
       "        68.91417925,  69.10919546,  69.40239393,  69.92983027,\n",
       "        70.31833913,  70.01160386,  69.54469212,  69.25758792,\n",
       "        68.78083368,  68.18552458,  67.61917668,  67.05272092,\n",
       "        66.96150931,  66.70800442,  66.55969286,  66.79558913,\n",
       "        67.39710035,  68.25683547,  68.74724785,  70.25745049,\n",
       "        71.77376087,  73.21373124,  74.57844024,  75.72583237,\n",
       "        76.28739385,  77.12370923,  77.72655525,  78.10323963,\n",
       "        77.92723427,  77.95630333,  77.92070856,  77.51336413,\n",
       "        77.45455186,  77.02644381,  76.87360201,  76.68644631,\n",
       "        76.74907424,  76.92847729,  76.37194492,  75.48297894,\n",
       "        74.4794625 ,  73.41916971,  72.29395691,  70.48792665,\n",
       "        68.50998981,  67.70047838,  67.05257261,  66.86409559,\n",
       "        66.51954088,  65.93391248,  65.63927135,  65.18945588,\n",
       "        64.1907798 ,  63.40706109,  62.09804982,  60.97840544,\n",
       "        60.95610478,  60.53588421,  60.53396964,  60.9246088 ,\n",
       "        61.38666671,  62.31825203,  63.50835789,  64.1009839 ,\n",
       "        64.85979974,  65.30910286,  65.35300308,  65.57355585,\n",
       "        65.94306735,  66.27496164,  66.45950166,  66.73146461,\n",
       "        66.98719418,  68.0994095 ,  68.25423328,  68.20816232,\n",
       "        67.68571464,  67.54307937,  66.88508841,  68.59908461,\n",
       "        69.58216101,  71.29387861,  72.03354878,  72.7278491 ,\n",
       "        74.22130602,  75.96110843,  76.90372274,  78.1671754 ,\n",
       "        79.65468637,  81.03398383,  82.70494271,  84.08825807,\n",
       "        85.8090766 ,  89.82709281,  92.49589183,  95.43571   ,\n",
       "        97.97917228, 100.39042155, 103.9725501 , 106.96705478,\n",
       "       106.144829  , 105.85028225, 104.08145123, 103.30150772,\n",
       "       101.77693235,  99.42657172,  97.08675469,  96.50231278,\n",
       "        96.51504061,  96.93203877,  96.21679955,  95.62835323,\n",
       "        94.71674951,  95.00738623,  94.26818796,  92.71737492,\n",
       "        91.13253112,  90.6385323 ,  90.41881547,  91.1568677 ,\n",
       "        90.98331621,  91.07907155,  91.74883305,  93.4404342 ,\n",
       "        94.2897201 ,  95.35161735,  96.12293182,  96.96642008,\n",
       "        99.01773069, 100.28199232, 102.12266007, 103.3287566 ,\n",
       "       104.42463068, 104.77328418, 104.60519326, 104.1891389 ,\n",
       "       103.00813398, 101.31367446, 100.20600287,  99.25403144,\n",
       "        99.36642464,  99.43282777,  99.73806643, 101.06190886,\n",
       "       102.41955283, 105.28760169, 107.11306076, 107.58819706,\n",
       "       107.97407676, 108.82786593, 109.8653592 , 110.48129708,\n",
       "       109.73208104, 110.19974782, 110.86910484, 112.58140219,\n",
       "       113.70108702, 114.5669164 , 115.53119768, 116.53449839,\n",
       "       117.36480041, 117.92291027, 118.04030561, 117.79049502,\n",
       "       116.86993868, 116.55576087, 115.93542757, 114.12249408,\n",
       "       110.82012157, 107.52728146, 104.13469508, 101.13068497,\n",
       "        97.74095696,  94.91953186,  93.30637404,  93.07073394,\n",
       "        92.82403789,  92.64893588,  92.25465635,  91.89810189,\n",
       "        91.60596857,  91.10525528,  90.11896995,  89.41256201,\n",
       "        88.21394847,  87.21633753,  86.41364843,  85.96410262,\n",
       "        85.34782766,  85.42956081,  85.5159051 ,  85.59202938,\n",
       "        86.18387338,  86.92574127,  87.63069305,  88.34556823,\n",
       "        88.79043549,  89.26381901])"
      ]
     },
     "execution_count": 81,
     "metadata": {},
     "output_type": "execute_result"
    }
   ],
   "source": [
    "test_predictions = model(X_test.to(device)).detach().cpu().numpy().flatten()\n",
    "\n",
    "dummies = np.zeros((X_test.shape[0], lookback+1))\n",
    "dummies[:, 0] = test_predictions\n",
    "dummies = scaler.inverse_transform(dummies)\n",
    "\n",
    "test_predictions = dc(dummies[:, 0])\n",
    "test_predictions"
   ]
  },
  {
   "cell_type": "code",
   "execution_count": null,
   "metadata": {},
   "outputs": [
    {
     "data": {
      "text/plain": [
       "array([ 60.81000441,  62.38000357,  61.06000376,  63.38000098,\n",
       "        64.49999591,  63.99999721,  61.81000182,  62.94000104,\n",
       "        60.56000506,  60.12999593,  61.000005  ,  55.5000058 ,\n",
       "        52.94000004,  52.55999887,  53.49999751,  54.99999361,\n",
       "        52.88000127,  51.81000081,  48.93999694,  49.12999753,\n",
       "        48.43999824,  47.93999954,  43.37999897,  43.37999897,\n",
       "        44.56000616,  46.44000343,  46.88000337,  46.44000343,\n",
       "        43.43999774,  41.5000017 ,  44.81000551,  47.80999772,\n",
       "        49.18999629,  55.5000058 ,  57.25000125,  58.38000048,\n",
       "        58.05999807,  54.43999614,  53.13000062,  56.69000378,\n",
       "        59.87999658,  56.44000443,  56.63000502,  57.38000307,\n",
       "        65.05999338,  67.0000029 ,  70.6899944 ,  69.93999635,\n",
       "        68.24999966,  67.75000096,  67.19000349,  69.05999648,\n",
       "        68.93999894,  70.05999388,  68.80999712,  66.44000544,\n",
       "        67.36999979,  70.87000418,  69.43999765,  70.49999382,\n",
       "        69.49999641,  68.24999966,  70.31000671,  69.61999394,\n",
       "        68.86999589,  69.05999648,  67.69000219,  64.43999715,\n",
       "        61.25000435,  61.5000037 ,  62.13000422,  65.1899952 ,\n",
       "        61.88000487,  51.75000205,  50.44000653,  50.37999428,\n",
       "        53.74999686,  54.37999738,  55.75000515,  54.55999367,\n",
       "        54.18999679,  55.56000456,  55.37999478,  55.43999355,\n",
       "        56.56000196,  59.12999853,  60.31000571,  61.31000311,\n",
       "        60.62999463,  62.69000169,  61.25000435,  63.24999916,\n",
       "        64.18999779,  64.24999656,  64.99999461,  62.99999981,\n",
       "        64.18999779,  65.81000491,  68.24999966,  68.11999784,\n",
       "        68.80999712,  69.30999583,  70.05999388,  69.43999765,\n",
       "        70.12000613,  70.1899957 ,  69.80999453,  69.99999511,\n",
       "        70.93999375,  71.31000412,  70.62000483,  71.12000353,\n",
       "        70.75000665,  71.25000535,  70.62000483,  71.000006  ,\n",
       "        71.56000347,  71.000006  ,  71.62000223,  72.19000399,\n",
       "        72.44000334,  72.61999964,  74.24999756,  74.11999574,\n",
       "        69.99999511,  69.11999524,  70.24999446,  69.36999459,\n",
       "        68.68999959,  69.80999453,  69.689997  ,  69.36999459,\n",
       "        67.80999972,  68.99999771,  70.56000606,  72.31000152,\n",
       "        74.80999503,  73.11999834,  78.50000001,  78.19000189,\n",
       "        78.93999995,  79.93999735,  80.30999423,  79.11999624,\n",
       "        79.43999865,  82.00000441,  80.93999475,  78.50000001,\n",
       "        79.99999612,  79.99999612,  77.19000449,  78.93999995,\n",
       "        78.80999813,  79.49999741,  77.69000319,  79.8699943 ,\n",
       "        80.6899954 ,  74.93999685,  73.69000009,  72.56000087,\n",
       "        72.37000029,  70.49999382,  67.86999849,  66.87000108,\n",
       "        68.80999712,  68.80999712,  70.49999382,  69.61999394,\n",
       "        66.87000108,  66.31000362,  64.55999468,  62.55999987,\n",
       "        63.38000098,  61.44000493,  61.5000037 ,  65.56000556,\n",
       "        63.19000039,  64.18999779,  65.05999338,  66.19000608,\n",
       "        67.69000219,  69.49999641,  69.36999459,  68.80999712,\n",
       "        67.86999849,  66.19000608,  67.80999972,  69.80999453,\n",
       "        71.12000353,  70.43999505,  70.56000606,  69.86999329,\n",
       "        73.44000074,  69.74999576,  69.80999453,  68.00000031,\n",
       "        69.36999459,  66.62000173,  78.93999995,  78.6900006 ,\n",
       "        80.55999358,  75.87000468,  74.11999574,  79.24999806,\n",
       "        79.36999559,  83.86999739,  86.06000627,  89.05999848,\n",
       "        85.99999402,  86.37000439,  88.55999978,  90.87000618,\n",
       "       106.24999538, 103.3700007 , 107.18999401, 104.30999933,\n",
       "       104.05999998, 111.68999581, 111.87000559, 103.25000316,\n",
       "       102.75000446,  97.37000279,  99.3699976 ,  95.3699945 ,\n",
       "        95.3699945 ,  95.11999515,  98.00000331, 100.99999552,\n",
       "        99.99999812,  95.55999509,  92.87000099,  90.61999335,\n",
       "        96.12000604,  93.36999969,  90.80999394,  89.3699966 ,\n",
       "        91.56000547,  91.31000612,  94.74999827,  94.24999957,\n",
       "        93.80999963,  95.05999638,  99.61999695,  97.62000214,\n",
       "        98.56000078,  99.61999695,  99.93999935, 105.99999602,\n",
       "       104.00000122, 109.94000036, 106.62000574, 106.55999349,\n",
       "       103.62000005, 100.80999494, 102.94000505,  97.87000149,\n",
       "        98.25000266,  98.75000137,  99.3699976 , 102.81000323,\n",
       "       101.24999487, 103.75000187, 105.99999602, 106.99999343,\n",
       "       115.30999774, 112.24999328, 107.81000373, 105.80999544,\n",
       "       109.3699986 , 112.24999328, 111.43999646, 109.99999912,\n",
       "       113.81000163, 112.62000364, 116.55999449, 116.74999508,\n",
       "       117.62000415, 117.94000655, 117.50000661, 119.12000025,\n",
       "       117.43999437, 117.56000538, 115.86999521, 112.75000546,\n",
       "       115.24999897, 113.6900041 , 108.44000425,  98.6900026 ,\n",
       "        96.62000474,  93.8699984 ,  92.75000346,  91.75000606,\n",
       "        93.00000281,  95.43999756,  96.12000604,  94.80999703,\n",
       "        93.1900034 ,  91.05000248,  90.1899977 ,  91.12000554,\n",
       "        91.68999381,  89.61999595,  89.80999653,  85.99999402,\n",
       "        84.93999785,  84.99999662,  87.31000302,  87.00000491,\n",
       "        89.1900003 ,  89.61999595,  87.12000244,  88.86999789,\n",
       "        89.93999835,  91.56000547,  91.75000606,  92.00000541,\n",
       "        92.56000288,  92.37000229])"
      ]
     },
     "execution_count": 82,
     "metadata": {},
     "output_type": "execute_result"
    }
   ],
   "source": [
    "dummies = np.zeros((X_test.shape[0], lookback+1))\n",
    "dummies[:, 0] = Y_test.flatten()\n",
    "dummies = scaler.inverse_transform(dummies)\n",
    "\n",
    "new_y_test = dc(dummies[:, 0])\n",
    "new_y_test"
   ]
  },
  {
   "cell_type": "code",
   "execution_count": null,
   "metadata": {},
   "outputs": [
    {
     "data": {
      "image/png": "[encoded data removed]",
      "text/plain": [
       "<Figure size 640x480 with 1 Axes>"
      ]
     },
     "metadata": {},
     "output_type": "display_data"
    }
   ],
   "source": [
    "plt.plot(new_y_test, label='Actual Close')\n",
    "plt.plot(test_predictions, label='Predicted Close')\n",
    "plt.xlabel('Day')\n",
    "plt.ylabel('Close')\n",
    "plt.legend()\n",
    "plt.show()\n"
   ]
  },
  {
   "cell_type": "code",
   "execution_count": null,
   "metadata": {},
   "outputs": [
    {
     "name": "stdout",
     "output_type": "stream",
     "text": [
      "Model saved\n"
     ]
    }
   ],
   "source": [
    "#export the model\n",
    "torch.save(model.state_dict(), 'lstm_model.pth')\n",
    "print('Model saved')"
   ]
  },
  {
   "cell_type": "code",
   "execution_count": null,
   "metadata": {},
   "outputs": [
    {
     "name": "stdout",
     "output_type": "stream",
     "text": [
      "Initial Cash: $1000\n",
      "Final Portfolio Value: $1036.68\n",
      "Total Profit: $36.68\n"
     ]
    },
    {
     "data": {
      "image/png": "[encoded data removed]",
      "text/plain": [
       "<Figure size 640x480 with 1 Axes>"
      ]
     },
     "metadata": {},
     "output_type": "display_data"
    }
   ],
   "source": [
    "initial_cash = 1000\n",
    "cash = initial_cash\n",
    "shares = 0\n",
    "portfolio_value = []\n",
    "\n",
    "# Parameters\n",
    "buy_threshold = 1.01  # Buy if predicted price is 1% higher than current price\n",
    "sell_threshold = 0.99  # Sell if predicted price is 1% lower than current price\n",
    "position_size = 0.1  # Allocate 10% of cash to each trade\n",
    "\n",
    "for i in range(1, len(new_y_test)):\n",
    "    current_price = new_y_test[i]\n",
    "    predicted_price = test_predictions[i]\n",
    "    \n",
    "    # Buy signal: Predicted price is higher than current price by the threshold\n",
    "    if predicted_price > current_price * buy_threshold and cash >= current_price:\n",
    "        shares_to_buy = (cash * position_size) // current_price\n",
    "        shares += shares_to_buy\n",
    "        cash -= shares_to_buy * current_price\n",
    "    \n",
    "    # Sell signal: Predicted price is lower than current price by the threshold\n",
    "    elif predicted_price < current_price * sell_threshold and shares > 0:\n",
    "        cash += shares * current_price\n",
    "        shares = 0\n",
    "    \n",
    "    \n",
    "    portfolio_value.append(cash + shares * current_price)\n",
    "\n",
    "\n",
    "final_portfolio_value = cash + shares * new_y_test[-1]\n",
    "total_profit = final_portfolio_value - initial_cash\n",
    "\n",
    "print(f\"Initial Cash: ${initial_cash}\")\n",
    "print(f\"Final Portfolio Value: ${final_portfolio_value:.2f}\")\n",
    "print(f\"Total Profit: ${total_profit:.2f}\")\n",
    "\n",
    "\n",
    "plt.plot(portfolio_value, label='Portfolio Value')\n",
    "plt.xlabel('Day')\n",
    "plt.ylabel('Value ($)')\n",
    "plt.title('Portfolio Value Over Time')\n",
    "plt.legend()\n",
    "plt.show()"
   ]
  }
 ],
 "metadata": {
  "kernelspec": {
   "display_name": "Python 3",
   "language": "python",
   "name": "python3"
  },
  "language_info": {
   "codemirror_mode": {
    "name": "ipython",
    "version": 3
   },
   "file_extension": ".py",
   "mimetype": "text/x-python",
   "name": "python",
   "nbconvert_exporter": "python",
   "pygments_lexer": "ipython3",
   "version": "3.10.0"
  }
 },
 "nbformat": 4,
 "nbformat_minor": 2
}
